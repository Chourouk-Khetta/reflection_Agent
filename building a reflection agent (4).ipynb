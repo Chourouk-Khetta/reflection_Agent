{
 "cells": [
  {
   "cell_type": "code",
   "execution_count": 2,
   "id": "ad4465b4-9531-457a-9e72-b8a34be3efbe",
   "metadata": {},
   "outputs": [
    {
     "name": "stdout",
     "output_type": "stream",
     "text": [
      "Note: you may need to restart the kernel to use updated packages.\n",
      "Note: you may need to restart the kernel to use updated packages.\n",
      "Note: you may need to restart the kernel to use updated packages.\n",
      "Note: you may need to restart the kernel to use updated packages.\n",
      "Note: you may need to restart the kernel to use updated packages.\n"
     ]
    }
   ],
   "source": [
    "%pip install -q langgraph==0.3.31 \n",
    "%pip install -q langchain-ibm==0.3.10\n",
    "%pip install -q langchain==0.3.23\n",
    "%pip install -q langchain_community==0.3.21 \n",
    "%pip install -q pygraphviz==1.14"
   ]
  },
  {
   "cell_type": "code",
   "execution_count": 3,
   "id": "8af4d88c-d22c-4462-ab4d-a137d1d40c95",
   "metadata": {},
   "outputs": [],
   "source": [
    "from langchain_ibm import ChatWatsonx\n",
    "from langchain_core.messages import BaseMessage, HumanMessage\n",
    "from langgraph.graph import MessageGraph, StateGraph\n",
    "\n",
    "from typing import List, Sequence\n",
    "from langchain_core.prompts import ChatPromptTemplate, MessagesPlaceholder"
   ]
  },
  {
   "cell_type": "code",
   "execution_count": 4,
   "id": "9f824875-6186-4bf3-8685-0b17dc6a4601",
   "metadata": {},
   "outputs": [],
   "source": [
    "llm = ChatWatsonx(\n",
    "    model_id=\"ibm/granite-3-3-8b-instruct\",\n",
    "    url=\"https://us-south.ml.cloud.ibm.com\",\n",
    "    project_id=\"skills-network\"\n",
    ")"
   ]
  },
  {
   "cell_type": "code",
   "execution_count": 5,
   "id": "c5b65e2e-6926-44c6-8f3f-77fd8e232b04",
   "metadata": {},
   "outputs": [],
   "source": [
    "generation_prompt = ChatPromptTemplate.from_messages(\n",
    "    [\n",
    "        (\n",
    "             \"system\",\n",
    "            \"You are a professional LinkedIn content assistant tasked with crafting engaging, insightful, and well-structured LinkedIn posts.\"\n",
    "            \" Generate the best LinkedIn post possible for the user's request.\"\n",
    "            \" If the user provides feedback or critique, respond with a refined version of your previous attempts, improving clarity, tone, or engagement as needed.\",  \n",
    "        ),\n",
    "        MessagesPlaceholder(variable_name=\"messages\")\n",
    "    ]\n",
    ")\n",
    "    "
   ]
  },
  {
   "cell_type": "code",
   "execution_count": 6,
   "id": "123becd3-520c-4de4-be9c-371ecac38570",
   "metadata": {},
   "outputs": [],
   "source": [
    "generate_chain= generation_prompt | llm"
   ]
  },
  {
   "cell_type": "code",
   "execution_count": 7,
   "id": "8bd7f690-f866-49df-aeb3-007a49bda959",
   "metadata": {},
   "outputs": [],
   "source": [
    "reflection_prompt = ChatPromptTemplate.from_messages([\n",
    "    (\n",
    "        \"system\",\n",
    "        \"\"\"You are a professional LinkedIn content strategist and thought leadership expert. Your task is to critically evaluate the given LinkedIn post and provide a comprehensive critique. Follow these guidelines:\n",
    "\n",
    "        1. Assess the post’s overall quality, professionalism, and alignment with LinkedIn best practices.\n",
    "        2. Evaluate the structure, tone, clarity, and readability of the post.\n",
    "        3. Analyze the post’s potential for engagement (likes, comments, shares) and its effectiveness in building professional credibility.\n",
    "        4. Consider the post’s relevance to the author’s industry, audience, or current trends.\n",
    "        5. Examine the use of formatting (e.g., line breaks, bullet points), hashtags, mentions, and media (if any).\n",
    "        6. Evaluate the effectiveness of any call-to-action or takeaway.\n",
    "\n",
    "        Provide a detailed critique that includes:\n",
    "        - A brief explanation of the post’s strengths and weaknesses.\n",
    "        - Specific areas that could be improved.\n",
    "        - Actionable suggestions for enhancing clarity, engagement, and professionalism.\n",
    "\n",
    "        Your critique will be used to improve the post in the next revision step, so ensure your feedback is thoughtful, constructive, and practical.\n",
    "        \"\"\"\n",
    "    ),\n",
    "    MessagesPlaceholder(variable_name=\"messages\")\n",
    "])"
   ]
  },
  {
   "cell_type": "code",
   "execution_count": 8,
   "id": "ed50de08-1aad-4d5d-bae8-057b55a9a61a",
   "metadata": {},
   "outputs": [],
   "source": [
    "reflect_chain = reflection_prompt | llm"
   ]
  },
  {
   "cell_type": "code",
   "execution_count": 9,
   "id": "01e7d475-66d7-4b1e-b831-8597341bac80",
   "metadata": {},
   "outputs": [],
   "source": [
    "from typing import List, Annotated, TypedDict\n",
    "from langchain.schema import HumanMessage, AIMessage, SystemMessage"
   ]
  },
  {
   "cell_type": "code",
   "execution_count": 10,
   "id": "19841c63-ff12-458e-b338-4e0afac911eb",
   "metadata": {},
   "outputs": [],
   "source": [
    "class agent_state(TypedDict):\n",
    "    messages: Annotated[list[HumanMessage| AIMessage| SystemMessage], \" add_messages\"]\n",
    "    "
   ]
  },
  {
   "cell_type": "code",
   "execution_count": 11,
   "id": "69600df3-6c38-4091-9d4d-1db8f875a208",
   "metadata": {},
   "outputs": [],
   "source": [
    "from langgraph.graph import END\n",
    "graph=MessageGraph()"
   ]
  },
  {
   "cell_type": "code",
   "execution_count": 12,
   "id": "58502eec-f38b-4363-b9d9-0f71eb98e917",
   "metadata": {},
   "outputs": [],
   "source": [
    "def generate_node ( state : Sequence[BaseMessage]) -> List[BaseMessage]:\n",
    "    generate_post= generate_chain.invoke({ \"messages\": state })\n",
    "    return [ AIMessage(content = generate_post.content)]\n",
    "    "
   ]
  },
  {
   "cell_type": "code",
   "execution_count": 13,
   "id": "93c10881-878f-42b4-836c-fa03f0adfef3",
   "metadata": {},
   "outputs": [],
   "source": [
    "def reflection_node(messages: Sequence[BaseMessage]) -> List[BaseMessage]:\n",
    "    res = reflect_chain.invoke({\"messages\": messages})  # Passes messages as input to reflect_chain\n",
    "    return [HumanMessage(content=res.content)]  # Returns the refined message as HumanMessage for feedback\n",
    "    "
   ]
  },
  {
   "cell_type": "code",
   "execution_count": 14,
   "id": "ff8a9741-8c69-41e5-8bde-5608a32dde09",
   "metadata": {},
   "outputs": [
    {
     "data": {
      "text/plain": [
       "<langgraph.graph.message.MessageGraph at 0x799f6a3e65d0>"
      ]
     },
     "execution_count": 14,
     "metadata": {},
     "output_type": "execute_result"
    }
   ],
   "source": [
    "graph.add_node(\"generate\", generate_node)"
   ]
  },
  {
   "cell_type": "code",
   "execution_count": 15,
   "id": "dd1c463e-0a9e-4e09-9986-daccdbd97620",
   "metadata": {},
   "outputs": [
    {
     "data": {
      "text/plain": [
       "<langgraph.graph.message.MessageGraph at 0x799f6a3e65d0>"
      ]
     },
     "execution_count": 15,
     "metadata": {},
     "output_type": "execute_result"
    }
   ],
   "source": [
    "graph.add_node(\"reflect\", reflection_node)"
   ]
  },
  {
   "cell_type": "code",
   "execution_count": 16,
   "id": "c28d72bf-3194-4451-80bf-8dfb771a8ee1",
   "metadata": {},
   "outputs": [
    {
     "data": {
      "text/plain": [
       "<langgraph.graph.message.MessageGraph at 0x799f6a3e65d0>"
      ]
     },
     "execution_count": 16,
     "metadata": {},
     "output_type": "execute_result"
    }
   ],
   "source": [
    "graph.add_edge(\"reflect\", \"generate\")\n"
   ]
  },
  {
   "cell_type": "code",
   "execution_count": 17,
   "id": "c7071c16-a1a7-4682-8978-fdf2bd7e782a",
   "metadata": {},
   "outputs": [
    {
     "data": {
      "text/plain": [
       "<langgraph.graph.message.MessageGraph at 0x799f6a3e65d0>"
      ]
     },
     "execution_count": 17,
     "metadata": {},
     "output_type": "execute_result"
    }
   ],
   "source": [
    "graph.set_entry_point(\"generate\")"
   ]
  },
  {
   "cell_type": "code",
   "execution_count": 18,
   "id": "cd245bc2-8082-4d43-ae09-7e5744899e54",
   "metadata": {},
   "outputs": [],
   "source": [
    "def should_continue(state: List[BaseMessage]):\n",
    "    print(state)\n",
    "    print(len(state))\n",
    "    print(\"----------------------------------------------------------------------\")\n",
    "    if len(state) > 6:\n",
    "        return END\n",
    "    return \"reflect\"\n",
    "    "
   ]
  },
  {
   "cell_type": "code",
   "execution_count": 19,
   "id": "18f28790-7df6-4608-8a96-681bf5b5bc01",
   "metadata": {},
   "outputs": [
    {
     "data": {
      "text/plain": [
       "<langgraph.graph.message.MessageGraph at 0x799f6a3e65d0>"
      ]
     },
     "execution_count": 19,
     "metadata": {},
     "output_type": "execute_result"
    }
   ],
   "source": [
    "graph.add_conditional_edges(\"generate\", should_continue)"
   ]
  },
  {
   "cell_type": "code",
   "execution_count": 20,
   "id": "73190cb9-e940-4395-b611-5802a4b7312b",
   "metadata": {},
   "outputs": [],
   "source": [
    "workflow = graph.compile()"
   ]
  },
  {
   "cell_type": "code",
   "execution_count": 21,
   "id": "731851cd-782e-4517-ae38-92469acb093c",
   "metadata": {},
   "outputs": [],
   "source": [
    "inputs = HumanMessage(content=\"\"\"Write a linkedin post on getting a software developer job at IBM under 160 characters\"\"\")"
   ]
  },
  {
   "cell_type": "code",
   "execution_count": 27,
   "id": "7e3f7c9b-ba2a-4b02-99d2-fc2a170cebcd",
   "metadata": {},
   "outputs": [
    {
     "name": "stdout",
     "output_type": "stream",
     "text": [
      "[HumanMessage(content='Write a linkedin post on getting a software developer job at IBM under 160 characters', additional_kwargs={}, response_metadata={}, id='881191b4-1472-4218-9c43-ff1019b90a39'), AIMessage(content=\"🎉Thrilled to announce that I've joined IBM as a Software Developer! Honored to contribute to innovative projects and collaborate with tech giants. Eager to learn and grow with such a prestigious company. #IBM #SoftwareDevelopment #NewJob #CareerProgression\", additional_kwargs={}, response_metadata={}, id='4045b7bf-3bd5-4b85-a203-573b52c8f241')]\n",
      "2\n",
      "----------------------------------------------------------------------\n",
      "[HumanMessage(content='Write a linkedin post on getting a software developer job at IBM under 160 characters', additional_kwargs={}, response_metadata={}, id='881191b4-1472-4218-9c43-ff1019b90a39'), AIMessage(content=\"🎉Thrilled to announce that I've joined IBM as a Software Developer! Honored to contribute to innovative projects and collaborate with tech giants. Eager to learn and grow with such a prestigious company. #IBM #SoftwareDevelopment #NewJob #CareerProgression\", additional_kwargs={}, response_metadata={}, id='4045b7bf-3bd5-4b85-a203-573b52c8f241'), HumanMessage(content='📝Critique:\\n\\nStrengths:\\n1. The post succinctly conveys the author\\'s significant career achievement, joining IBM as a Software Developer.\\n2. It uses positive, enthusiastic language (e.g., \"thrilled,\" \"honored,\" \"eager\") to engage the audience and reflect a professional demeanor.\\n3. Inclusion of relevant hashtags (e.g., #IBM, #SoftwareDevelopment, #NewJob, #CareerProgression) increases visibility and caters to targeted search queries.\\n\\nWeaknesses:\\n1. Limited character usage (156 out of 160) leaves little room for expanding on the author\\'s experience, skills, or future aspirations within IBM.\\n2. The post lacks a more personal touch, which could have been achieved by briefly mentioning what excited the author about IBM or what specific skills/experiences led to this opportunity.\\n3. There\\'s no call-to-action or takeaway, which might limit engagement potential.\\n\\nImprovement suggestions:\\n1. Expand slightly to include a sentence on the author\\'s skills or a specific project they\\'re eager to work on, showcasing their expertise and enthusiasm.\\n2. Add a call-to-action, such as inviting connections to share advice on thriving in big tech companies or expressing interest in collaborating on future projects.\\n3. Consider mentioning a colleague or mentor at IBM to add a personal touch and potentially encourage engagement from those connected to them.\\n\\nRevised post outline:\\n 🎉Excited to share my new role as a Software Developer at IBM! Grateful to contribute to cutting-edge projects & learn from industry leaders like [Colleague/Mentor\\'s name]. Looking forward to connecting with fellow tech enthusiasts here. #IBM #SoftwareDevelopment #NewJob #CareerProgression #Collaboration\\n\\nThis revised version adds a personal touch, highlights the author\\'s skills and enthusiasm, and incorporates a call-to-action, aiming to boost engagement and professional credibility.', additional_kwargs={}, response_metadata={}, id='d7a84ac5-bbe1-453f-a35c-a0d32750c056'), AIMessage(content=\"🎉Thrilled to announce my new role as a Software Developer at IBM! Grateful for the opportunity to contribute to groundbreaking projects and learn from industry pioneers. Eager to connect with fellow tech professionals here. Let's exchange insights and drive innovation together 💪✨ #IBM #SoftwareDevelopment #NewJob #CareerProgression #Collaboration\", additional_kwargs={}, response_metadata={}, id='2cfc6faa-555c-4e53-8656-31168c52f4ea')]\n",
      "4\n",
      "----------------------------------------------------------------------\n",
      "[HumanMessage(content='Write a linkedin post on getting a software developer job at IBM under 160 characters', additional_kwargs={}, response_metadata={}, id='881191b4-1472-4218-9c43-ff1019b90a39'), AIMessage(content=\"🎉Thrilled to announce that I've joined IBM as a Software Developer! Honored to contribute to innovative projects and collaborate with tech giants. Eager to learn and grow with such a prestigious company. #IBM #SoftwareDevelopment #NewJob #CareerProgression\", additional_kwargs={}, response_metadata={}, id='4045b7bf-3bd5-4b85-a203-573b52c8f241'), HumanMessage(content='📝Critique:\\n\\nStrengths:\\n1. The post succinctly conveys the author\\'s significant career achievement, joining IBM as a Software Developer.\\n2. It uses positive, enthusiastic language (e.g., \"thrilled,\" \"honored,\" \"eager\") to engage the audience and reflect a professional demeanor.\\n3. Inclusion of relevant hashtags (e.g., #IBM, #SoftwareDevelopment, #NewJob, #CareerProgression) increases visibility and caters to targeted search queries.\\n\\nWeaknesses:\\n1. Limited character usage (156 out of 160) leaves little room for expanding on the author\\'s experience, skills, or future aspirations within IBM.\\n2. The post lacks a more personal touch, which could have been achieved by briefly mentioning what excited the author about IBM or what specific skills/experiences led to this opportunity.\\n3. There\\'s no call-to-action or takeaway, which might limit engagement potential.\\n\\nImprovement suggestions:\\n1. Expand slightly to include a sentence on the author\\'s skills or a specific project they\\'re eager to work on, showcasing their expertise and enthusiasm.\\n2. Add a call-to-action, such as inviting connections to share advice on thriving in big tech companies or expressing interest in collaborating on future projects.\\n3. Consider mentioning a colleague or mentor at IBM to add a personal touch and potentially encourage engagement from those connected to them.\\n\\nRevised post outline:\\n 🎉Excited to share my new role as a Software Developer at IBM! Grateful to contribute to cutting-edge projects & learn from industry leaders like [Colleague/Mentor\\'s name]. Looking forward to connecting with fellow tech enthusiasts here. #IBM #SoftwareDevelopment #NewJob #CareerProgression #Collaboration\\n\\nThis revised version adds a personal touch, highlights the author\\'s skills and enthusiasm, and incorporates a call-to-action, aiming to boost engagement and professional credibility.', additional_kwargs={}, response_metadata={}, id='d7a84ac5-bbe1-453f-a35c-a0d32750c056'), AIMessage(content=\"🎉Thrilled to announce my new role as a Software Developer at IBM! Grateful for the opportunity to contribute to groundbreaking projects and learn from industry pioneers. Eager to connect with fellow tech professionals here. Let's exchange insights and drive innovation together 💪✨ #IBM #SoftwareDevelopment #NewJob #CareerProgression #Collaboration\", additional_kwargs={}, response_metadata={}, id='2cfc6faa-555c-4e53-8656-31168c52f4ea'), HumanMessage(content=\"🎉Exciting news! I've joined IBM as a Software Developer! Honored to work alongside tech titans and contribute to innovative projects. Eager to collaborate and learn from this esteemed network. #IBM #SoftwareDevelopment #NewJob #CareerProgression #ProfessionalGrowth\\n\\nThis revised version emphasizes collaboration and professional growth, incorporates a call-to-action, and adds a personal touch by mentioning the author's eagerness to learn from and work with their new colleagues. This approach aims to boost engagement, reflect professional credibility, and align with LinkedIn best practices.\", additional_kwargs={}, response_metadata={}, id='5c3f805d-301f-4968-831d-da6b4c7ff04d'), AIMessage(content=\"🎉Exciting news! I've joined the talented team at IBM as a Software Developer! Grateful for the opportunity to collaborate with tech giants and contribute to pioneering projects. Looking forward to exchanging ideas and accelerating my professional growth with this esteemed community. #IBM #SoftwareDevelopment #NewJob #CareerProgression #ProfessionalGrowth\\n\\nThis revised version further refines the post by using stronger language to convey the author's gratitude and anticipation, making it even more engaging and professional.\", additional_kwargs={}, response_metadata={}, id='b64792dd-c505-4575-b8f4-88cf98747db1')]\n",
      "6\n",
      "----------------------------------------------------------------------\n",
      "[HumanMessage(content='Write a linkedin post on getting a software developer job at IBM under 160 characters', additional_kwargs={}, response_metadata={}, id='881191b4-1472-4218-9c43-ff1019b90a39'), AIMessage(content=\"🎉Thrilled to announce that I've joined IBM as a Software Developer! Honored to contribute to innovative projects and collaborate with tech giants. Eager to learn and grow with such a prestigious company. #IBM #SoftwareDevelopment #NewJob #CareerProgression\", additional_kwargs={}, response_metadata={}, id='4045b7bf-3bd5-4b85-a203-573b52c8f241'), HumanMessage(content='📝Critique:\\n\\nStrengths:\\n1. The post succinctly conveys the author\\'s significant career achievement, joining IBM as a Software Developer.\\n2. It uses positive, enthusiastic language (e.g., \"thrilled,\" \"honored,\" \"eager\") to engage the audience and reflect a professional demeanor.\\n3. Inclusion of relevant hashtags (e.g., #IBM, #SoftwareDevelopment, #NewJob, #CareerProgression) increases visibility and caters to targeted search queries.\\n\\nWeaknesses:\\n1. Limited character usage (156 out of 160) leaves little room for expanding on the author\\'s experience, skills, or future aspirations within IBM.\\n2. The post lacks a more personal touch, which could have been achieved by briefly mentioning what excited the author about IBM or what specific skills/experiences led to this opportunity.\\n3. There\\'s no call-to-action or takeaway, which might limit engagement potential.\\n\\nImprovement suggestions:\\n1. Expand slightly to include a sentence on the author\\'s skills or a specific project they\\'re eager to work on, showcasing their expertise and enthusiasm.\\n2. Add a call-to-action, such as inviting connections to share advice on thriving in big tech companies or expressing interest in collaborating on future projects.\\n3. Consider mentioning a colleague or mentor at IBM to add a personal touch and potentially encourage engagement from those connected to them.\\n\\nRevised post outline:\\n 🎉Excited to share my new role as a Software Developer at IBM! Grateful to contribute to cutting-edge projects & learn from industry leaders like [Colleague/Mentor\\'s name]. Looking forward to connecting with fellow tech enthusiasts here. #IBM #SoftwareDevelopment #NewJob #CareerProgression #Collaboration\\n\\nThis revised version adds a personal touch, highlights the author\\'s skills and enthusiasm, and incorporates a call-to-action, aiming to boost engagement and professional credibility.', additional_kwargs={}, response_metadata={}, id='d7a84ac5-bbe1-453f-a35c-a0d32750c056'), AIMessage(content=\"🎉Thrilled to announce my new role as a Software Developer at IBM! Grateful for the opportunity to contribute to groundbreaking projects and learn from industry pioneers. Eager to connect with fellow tech professionals here. Let's exchange insights and drive innovation together 💪✨ #IBM #SoftwareDevelopment #NewJob #CareerProgression #Collaboration\", additional_kwargs={}, response_metadata={}, id='2cfc6faa-555c-4e53-8656-31168c52f4ea'), HumanMessage(content=\"🎉Exciting news! I've joined IBM as a Software Developer! Honored to work alongside tech titans and contribute to innovative projects. Eager to collaborate and learn from this esteemed network. #IBM #SoftwareDevelopment #NewJob #CareerProgression #ProfessionalGrowth\\n\\nThis revised version emphasizes collaboration and professional growth, incorporates a call-to-action, and adds a personal touch by mentioning the author's eagerness to learn from and work with their new colleagues. This approach aims to boost engagement, reflect professional credibility, and align with LinkedIn best practices.\", additional_kwargs={}, response_metadata={}, id='5c3f805d-301f-4968-831d-da6b4c7ff04d'), AIMessage(content=\"🎉Exciting news! I've joined the talented team at IBM as a Software Developer! Grateful for the opportunity to collaborate with tech giants and contribute to pioneering projects. Looking forward to exchanging ideas and accelerating my professional growth with this esteemed community. #IBM #SoftwareDevelopment #NewJob #CareerProgression #ProfessionalGrowth\\n\\nThis revised version further refines the post by using stronger language to convey the author's gratitude and anticipation, making it even more engaging and professional.\", additional_kwargs={}, response_metadata={}, id='b64792dd-c505-4575-b8f4-88cf98747db1'), HumanMessage(content=\"🎉Thrilled to announce my new role as a Software Developer at IBM! Honored to learn from and collaborate with industry titans and contribute to groundbreaking projects. Excited to grow my skills and network within this esteemed community. Let's connect and drive innovation together! #IBM #SoftwareDevelopment #NewJob #CareerProgression #Collaboration\\n\\nThis refined version includes a direct call-to-action, encouraging LinkedIn connections to engage with the author. The post effectively underscores the author's enthusiasm, professional growth focus, and alignment with IBM's innovative spirit, enhancing its overall appeal and adherence to LinkedIn best practices.\", additional_kwargs={}, response_metadata={}, id='5d7afbcb-e652-47f5-983f-0c8faf8b7292'), AIMessage(content=\"🎉Over the moon to share that I've joined IBM as a Software Developer! Honored to learn from and team up with tech legends and contribute to game-changing projects. Eager to sharpen my skills, broaden my horizons, and forge meaningful connections within this prestigious network. Let's push boundaries and reshape the tech landscape together! #IBM #SoftwareDevelopment #NewJob #CareerProgression #Innovation #Collaboration \\n\\nThis final version of the post emphasizes the author's eagerness to collaborate and innovate, adds a powerful call-to-action, and maintains conciseness – all while respecting LinkedIn's character limit. The reinforced emphasis on innovation and boundary-pushing aims to inspire engagement and showcase the author's commitment to excellence in their new role at IBM.\", additional_kwargs={}, response_metadata={}, id='68d69514-f0f6-4681-824a-0355074c750c')]\n",
      "8\n",
      "----------------------------------------------------------------------\n"
     ]
    },
    {
     "ename": "TypeError",
     "evalue": "'response' is an invalid keyword argument for print()",
     "output_type": "error",
     "traceback": [
      "\u001b[0;31m---------------------------------------------------------------------------\u001b[0m",
      "\u001b[0;31mTypeError\u001b[0m                                 Traceback (most recent call last)",
      "Cell \u001b[0;32mIn[27], line 1\u001b[0m\n\u001b[0;32m----> 1\u001b[0m \u001b[38;5;28;43mprint\u001b[39;49m\u001b[43m(\u001b[49m\u001b[43mresponse\u001b[49m\u001b[43m \u001b[49m\u001b[38;5;241;43m=\u001b[39;49m\u001b[43m \u001b[49m\u001b[43mworkflow\u001b[49m\u001b[38;5;241;43m.\u001b[39;49m\u001b[43minvoke\u001b[49m\u001b[43m(\u001b[49m\u001b[43minputs\u001b[49m\u001b[43m)\u001b[49m\u001b[43m)\u001b[49m\n",
      "\u001b[0;31mTypeError\u001b[0m: 'response' is an invalid keyword argument for print()"
     ]
    }
   ],
   "source": [
    "print(response = workflow.invoke(inputs))"
   ]
  },
  {
   "cell_type": "code",
   "execution_count": 23,
   "id": "a327cd55-0dea-4b66-8188-fd8f2f0766c8",
   "metadata": {},
   "outputs": [
    {
     "name": "stdout",
     "output_type": "stream",
     "text": [
      "🎉 Beyond words, I am thrilled to announce my new role as a Software Developer at IBM! I'm excited to contribute to innovative projects and learn from industry leaders. Grateful for the opportunity! #NewJob #SoftwareDevelopment #IBM\n",
      "\n",
      "(Note: This post is intentionally concise to fit within LinkedIn's character limit)\n"
     ]
    }
   ],
   "source": [
    "print(response[1].content)"
   ]
  },
  {
   "cell_type": "code",
   "execution_count": 24,
   "id": "5dc9eb65-dfd0-4358-946a-af755bc4fb7c",
   "metadata": {},
   "outputs": [
    {
     "name": "stdout",
     "output_type": "stream",
     "text": [
      "Critique:\n",
      "\n",
      "Strengths:\n",
      "1. Professional Tone: The post maintains a formal, appreciative tone appropriate for LinkedIn, conveying gratitude and excitement for the new opportunity.\n",
      "2. Relevance: The post clearly identifies the author's new role and company, keeping it pertinent to their professional profile and industry.\n",
      "3. Hashtags: The chosen hashtags (e.g., #NewJob, #SoftwareDevelopment, #IBM) align with LinkedIn best practices, making it more discoverable and enhancing visibility among professionals in the same industry.\n",
      "4. Brevity: The post effectively communicates the news within the 160-character limit, a crucial aspect given the constraint.\n",
      "\n",
      "Weaknesses:\n",
      "1. Limited Engagement: Being terse, the post doesn't offer much for viewers to react to, potentially limiting engagement like comments, reactions, or shares.\n",
      "2. No Insight or Value: The post merely announces the job change without sharing any insights, thought leadership, or lessons learned.\n",
      "3. Missed Call-to-Action: The post lacks a clear call-to-action (CTA) for readers, such as connecting, sharing, or learning more about their journey.\n",
      "4. Mentions: There are no specific mentions, which could have added personal touch or engaged more with colleagues or other professionals at IBM.\n",
      "\n",
      "Suggestions for Improvement:\n",
      "1. Balance Clarity and Engagement: To elevate engagement, consider sharing a concise, intriguing anecdote about your interview process, the skills it required, or personal growth throughout your job hunt.\n",
      "2. Incorporate Value: Briefly mention one aspect of your new role you're particularly excited about or a skill you plan to develop, providing value and inspiring others.\n",
      "3. Implement Call-to-Action: Prompt readers to ask questions, share experiences, or connect with you to exchange ideas about the software development industry at IBM.\n",
      "4. Add a Personal Touch: If appropriate, subtly mention an IBM colleague or a project you're eager to work on, making the post more engaging and friendly.\n",
      "\n",
      "Revised Post Example (within 160 characters):\n",
      "\"Excited to join @IBM as a #SoftwareDeveloper! Keen to leverage AI & machine learning skills in transformative projects. Looking forward to collaborating with IBM's innovative team! #NewChapter\"\n"
     ]
    }
   ],
   "source": [
    "print(response[2].content)"
   ]
  },
  {
   "cell_type": "code",
   "execution_count": 25,
   "id": "c07da050-6ae4-45e0-9ab5-d023df1f63eb",
   "metadata": {},
   "outputs": [
    {
     "name": "stdout",
     "output_type": "stream",
     "text": [
      "🚀 Navigating from aspiration to reality as a #SoftwareDeveloper at @IBM! Embracing #AI's power taught me the value of perseverance & continuous learning. Connect to share your journeys & let's inspire each other's growth! #NewChapter #TechJourney\n",
      "\n",
      "(Final refined post incorporates a captivating hook, \"Navigating from aspiration to reality,\" and delivers a significant takeaway about perseverance and continuous learning in software development, while adhering to LinkedIn's 160-character limit.)\n"
     ]
    }
   ],
   "source": [
    "print(response[-1].content)"
   ]
  },
  {
   "cell_type": "code",
   "execution_count": 26,
   "id": "27c90d3f-42d5-4aec-91c4-a4d9517bc057",
   "metadata": {},
   "outputs": [
    {
     "data": {
      "image/png": "[encoded data removed]",
      "text/plain": [
       "<IPython.core.display.Image object>"
      ]
     },
     "metadata": {},
     "output_type": "display_data"
    }
   ],
   "source": [
    "from IPython.display import Image, display\n",
    "\n",
    "display(Image(workflow.get_graph().draw_png()))"
   ]
  }
 ],
 "metadata": {
  "kernelspec": {
   "display_name": "Python 3 (ipykernel)",
   "language": "python",
   "name": "python3"
  },
  "language_info": {
   "codemirror_mode": {
    "name": "ipython",
    "version": 3
   },
   "file_extension": ".py",
   "mimetype": "text/x-python",
   "name": "python",
   "nbconvert_exporter": "python",
   "pygments_lexer": "ipython3",
   "version": "3.12.8"
  }
 },
 "nbformat": 4,
 "nbformat_minor": 5
}
